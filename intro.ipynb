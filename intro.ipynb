{
 "cells": [
  {
   "attachments": {},
   "cell_type": "markdown",
   "metadata": {},
   "source": [
    "## <span style=\"color:#ffbd40\"> Introduction to Apache Airflow <span>\n",
    "\n",
    "- Apache airflow is an open source platform for developing, scheduling, and monitoring batch oriented workflows.\n",
    "- A web interface is available to monitor the state of the workflows.\n",
    "- Airflow is scalable it can work from a laptop to distributed large system.\n",
    "- It uses a <span style=\"color:#f57373\">**workflow as a code**<span> approch.\n",
    "- This helps air flow to be <span style=\"color:#f57373\">**Dynamic**<span>, <span style=\"color:#f57373\">**Extensible**<span> and <span style=\"color:#f57373\">**Flexible**<span>(Workflow parameterization is built using *jinja*)\n",
    "- A <span style=\"color:#f57373\">**DAG**<span> is Airflow’s representation of a *workflow*.\n",
    "- \\>> Between the tasks defines a dependency and controls in which order the tasks will be executed.\n",
    "\n",
    "### <span style=\"color:#ffbd40\">Advantages of using Airflow<span>\n",
    "\n",
    "- Workflows can be stored in version control so that you can roll back to previous versions\n",
    "- Workflows can be developed by multiple people simultaneously\n",
    "- Tests can be written to validate functionality\n",
    "- Components are extensible and you can build on a wide collection of existing components\n",
    "\n",
    "### <span style=\"color:#ffbd40\">Why not Airflow<span>\n",
    "\n",
    "- Airflow is not a streaming solution.\n",
    "- It uses coding to do the workflows.  \n",
    "\n"
   ]
  },
  {
   "cell_type": "markdown",
   "metadata": {},
   "source": []
  }
 ],
 "metadata": {
  "kernelspec": {
   "display_name": "airflow",
   "language": "python",
   "name": "python3"
  },
  "language_info": {
   "name": "python",
   "version": "3.10.6"
  },
  "orig_nbformat": 4,
  "vscode": {
   "interpreter": {
    "hash": "f87b7a3b8ffee1f26a6c0df051af839bf61cd69b04e2932e1b8122980ce34cf2"
   }
  }
 },
 "nbformat": 4,
 "nbformat_minor": 2
}
